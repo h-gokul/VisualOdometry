{
 "cells": [
  {
   "cell_type": "code",
   "execution_count": 1,
   "metadata": {},
   "outputs": [
    {
     "ename": "ModuleNotFoundError",
     "evalue": "No module named 'custom_functions'",
     "output_type": "error",
     "traceback": [
      "\u001b[0;31m---------------------------------------------------------------------------\u001b[0m",
      "\u001b[0;31mModuleNotFoundError\u001b[0m                       Traceback (most recent call last)",
      "\u001b[0;32m<ipython-input-1-5dd496333df3>\u001b[0m in \u001b[0;36m<module>\u001b[0;34m\u001b[0m\n\u001b[1;32m     12\u001b[0m \u001b[0;32mfrom\u001b[0m \u001b[0mUndistortImage\u001b[0m \u001b[0;32mimport\u001b[0m \u001b[0mUndistortImage\u001b[0m\u001b[0;34m\u001b[0m\u001b[0;34m\u001b[0m\u001b[0m\n\u001b[1;32m     13\u001b[0m \u001b[0;32mfrom\u001b[0m \u001b[0mrandom\u001b[0m \u001b[0;32mimport\u001b[0m \u001b[0msample\u001b[0m\u001b[0;34m\u001b[0m\u001b[0;34m\u001b[0m\u001b[0m\n\u001b[0;32m---> 14\u001b[0;31m \u001b[0;32mfrom\u001b[0m \u001b[0mcustom_functions\u001b[0m \u001b[0;32mimport\u001b[0m \u001b[0;34m*\u001b[0m\u001b[0;34m\u001b[0m\u001b[0;34m\u001b[0m\u001b[0m\n\u001b[0m\u001b[1;32m     15\u001b[0m \u001b[0mroot\u001b[0m \u001b[0;34m=\u001b[0m \u001b[0;34m'/home/gokul/Projects/VisualOdometry/Oxford_dataset/model'\u001b[0m\u001b[0;34m\u001b[0m\u001b[0;34m\u001b[0m\u001b[0m\n\u001b[1;32m     16\u001b[0m \u001b[0mfx\u001b[0m\u001b[0;34m,\u001b[0m \u001b[0mfy\u001b[0m\u001b[0;34m,\u001b[0m \u001b[0mcx\u001b[0m\u001b[0;34m,\u001b[0m \u001b[0mcy\u001b[0m\u001b[0;34m,\u001b[0m \u001b[0mG_camera_image\u001b[0m\u001b[0;34m,\u001b[0m \u001b[0mLUT\u001b[0m \u001b[0;34m=\u001b[0m \u001b[0mReadCameraModel\u001b[0m\u001b[0;34m(\u001b[0m\u001b[0mroot\u001b[0m\u001b[0;34m)\u001b[0m\u001b[0;34m\u001b[0m\u001b[0;34m\u001b[0m\u001b[0m\n",
      "\u001b[0;31mModuleNotFoundError\u001b[0m: No module named 'custom_functions'"
     ]
    }
   ],
   "source": [
    "# getCameraMatrix\n",
    "# Imports\n",
    "import cv2\n",
    "import numpy as np\n",
    "import os\n",
    "import matplotlib.pyplot as plt\n",
    "import glob\n",
    "import pprint\n",
    "from scipy.optimize import least_squares\n",
    "os.chdir('/home/gokul/Projects/VisualOdometry/Oxford_dataset/')\n",
    "from ReadCameraModel import ReadCameraModel\n",
    "from UndistortImage import UndistortImage\n",
    "from random import sample\n",
    "from custom_functions import *\n",
    "root = '/home/gokul/Projects/VisualOdometry/Oxford_dataset/model'\n",
    "fx, fy, cx, cy, G_camera_image, LUT = ReadCameraModel(root)\n",
    "K = np.array([[fx,0,cx],[0,fy,cy],[0,0,1]])\n",
    "\n",
    "## load image list\n",
    "root = '/home/gokul/Projects/VisualOdometry/Oxford_dataset/stereo/centre/'\n",
    "\n",
    "impaths = []\n",
    "for f in sorted(glob.glob(root+\"*.png\")):\n",
    "    impaths.append(f)\n",
    "    "
   ]
  },
  {
   "cell_type": "code",
   "execution_count": 2,
   "metadata": {},
   "outputs": [
    {
     "ename": "error",
     "evalue": "OpenCV(3.4.8) /io/opencv_contrib/modules/xfeatures2d/src/sift.cpp:1207: error: (-213:The function/feature is not implemented) This algorithm is patented and is excluded in this configuration; Set OPENCV_ENABLE_NONFREE CMake option and rebuild the library in function 'create'\n",
     "output_type": "error",
     "traceback": [
      "\u001b[0;31m---------------------------------------------------------------------------\u001b[0m",
      "\u001b[0;31merror\u001b[0m                                     Traceback (most recent call last)",
      "\u001b[0;32m<ipython-input-2-3f150c534fb9>\u001b[0m in \u001b[0;36m<module>\u001b[0;34m\u001b[0m\n\u001b[1;32m     36\u001b[0m     \u001b[0mim2\u001b[0m \u001b[0;34m=\u001b[0m \u001b[0mUndistortImage\u001b[0m\u001b[0;34m(\u001b[0m\u001b[0mcv2\u001b[0m\u001b[0;34m.\u001b[0m\u001b[0mcvtColor\u001b[0m\u001b[0;34m(\u001b[0m\u001b[0mcv2\u001b[0m\u001b[0;34m.\u001b[0m\u001b[0mimread\u001b[0m\u001b[0;34m(\u001b[0m\u001b[0mimpaths\u001b[0m\u001b[0;34m[\u001b[0m\u001b[0mi\u001b[0m\u001b[0;34m+\u001b[0m\u001b[0;36m1\u001b[0m\u001b[0;34m]\u001b[0m\u001b[0;34m,\u001b[0m\u001b[0;36m0\u001b[0m\u001b[0;34m)\u001b[0m\u001b[0;34m,\u001b[0m \u001b[0mcv2\u001b[0m\u001b[0;34m.\u001b[0m\u001b[0mCOLOR_BAYER_GR2RGB\u001b[0m\u001b[0;34m)\u001b[0m\u001b[0;34m,\u001b[0m\u001b[0mLUT\u001b[0m\u001b[0;34m)\u001b[0m\u001b[0;34m\u001b[0m\u001b[0;34m\u001b[0m\u001b[0m\n\u001b[1;32m     37\u001b[0m \u001b[0;34m\u001b[0m\u001b[0m\n\u001b[0;32m---> 38\u001b[0;31m     \u001b[0mpts1\u001b[0m\u001b[0;34m,\u001b[0m\u001b[0mpts2\u001b[0m \u001b[0;34m=\u001b[0m \u001b[0mfindKeypoints\u001b[0m\u001b[0;34m(\u001b[0m\u001b[0mim1\u001b[0m\u001b[0;34m,\u001b[0m\u001b[0mim2\u001b[0m\u001b[0;34m)\u001b[0m\u001b[0;34m\u001b[0m\u001b[0;34m\u001b[0m\u001b[0m\n\u001b[0m\u001b[1;32m     39\u001b[0m \u001b[0;34m\u001b[0m\u001b[0m\n\u001b[1;32m     40\u001b[0m     \u001b[0mF\u001b[0m\u001b[0;34m,\u001b[0m\u001b[0mmask\u001b[0m  \u001b[0;34m=\u001b[0m \u001b[0mFmatrixRansac\u001b[0m\u001b[0;34m(\u001b[0m\u001b[0mpts1\u001b[0m\u001b[0;34m,\u001b[0m\u001b[0mpts2\u001b[0m\u001b[0;34m,\u001b[0m\u001b[0;32mFalse\u001b[0m\u001b[0;34m)\u001b[0m\u001b[0;34m\u001b[0m\u001b[0;34m\u001b[0m\u001b[0m\n",
      "\u001b[0;32m~/Projects/VisualOdometry/VisualOdometry/custom_functions.py\u001b[0m in \u001b[0;36mfindKeypoints\u001b[0;34m(im1, im2)\u001b[0m\n\u001b[1;32m     15\u001b[0m     \u001b[0mMIN_MATCH_COUNT\u001b[0m \u001b[0;34m=\u001b[0m \u001b[0;36m10\u001b[0m\u001b[0;34m\u001b[0m\u001b[0;34m\u001b[0m\u001b[0m\n\u001b[1;32m     16\u001b[0m     \u001b[0;31m# Initiate SIFT detector\u001b[0m\u001b[0;34m\u001b[0m\u001b[0;34m\u001b[0m\u001b[0;34m\u001b[0m\u001b[0m\n\u001b[0;32m---> 17\u001b[0;31m     \u001b[0msift\u001b[0m \u001b[0;34m=\u001b[0m \u001b[0mcv2\u001b[0m\u001b[0;34m.\u001b[0m\u001b[0mxfeatures2d\u001b[0m\u001b[0;34m.\u001b[0m\u001b[0mSIFT_create\u001b[0m\u001b[0;34m(\u001b[0m\u001b[0;34m)\u001b[0m\u001b[0;34m\u001b[0m\u001b[0;34m\u001b[0m\u001b[0m\n\u001b[0m\u001b[1;32m     18\u001b[0m \u001b[0;34m\u001b[0m\u001b[0m\n\u001b[1;32m     19\u001b[0m     \u001b[0;31m# find the keypoints and descriptors with SIFT\u001b[0m\u001b[0;34m\u001b[0m\u001b[0;34m\u001b[0m\u001b[0;34m\u001b[0m\u001b[0m\n",
      "\u001b[0;31merror\u001b[0m: OpenCV(3.4.8) /io/opencv_contrib/modules/xfeatures2d/src/sift.cpp:1207: error: (-213:The function/feature is not implemented) This algorithm is patented and is excluded in this configuration; Set OPENCV_ENABLE_NONFREE CMake option and rebuild the library in function 'create'\n"
     ]
    }
   ],
   "source": [
    "# getCameraMatrix\n",
    "# Imports\n",
    "import cv2\n",
    "import numpy as np\n",
    "import os\n",
    "import matplotlib.pyplot as plt\n",
    "import glob\n",
    "import pandas as pd\n",
    "import pprint\n",
    "from scipy.optimize import least_squares\n",
    "os.chdir('/home/gokul/Projects/VisualOdometry/Oxford_dataset/')\n",
    "from ReadCameraModel import ReadCameraModel\n",
    "from UndistortImage import UndistortImage\n",
    "from random import sample\n",
    "from custom_functions import *\n",
    "root = '/home/gokul/Projects/VisualOdometry/Oxford_dataset/model'\n",
    "fx, fy, cx, cy, G_camera_image, LUT = ReadCameraModel(root)\n",
    "K = np.array([[fx,0,cx],[0,fy,cy],[0,0,1]])\n",
    "\n",
    "## load image list\n",
    "root = '/home/gokul/Projects/VisualOdometry/Oxford_dataset/stereo/centre/'\n",
    "\n",
    "impaths = []\n",
    "for f in sorted(glob.glob(root+\"*.png\")):\n",
    "    impaths.append(f)\n",
    "    \n",
    "i = 100 \n",
    "H0  = np.identity(4)\n",
    "p_0 = np.array([[0, 0, 0, 1]]).T\n",
    "flag = 0\n",
    "\n",
    "data_points = []\n",
    "for i in range(len(impaths)-1):\n",
    "# for i in range(1):\n",
    "    im1 = UndistortImage(cv2.cvtColor(cv2.imread(impaths[i],0), cv2.COLOR_BAYER_GR2RGB),LUT)\n",
    "    im2 = UndistortImage(cv2.cvtColor(cv2.imread(impaths[i+1],0), cv2.COLOR_BAYER_GR2RGB),LUT)\n",
    "\n",
    "    pts1,pts2 = findKeypoints(im1,im2)\n",
    "\n",
    "    F,mask  = FmatrixRansac(pts1,pts2,False)\n",
    "    E = getEssentialMatrix(K,F)\n",
    "    \n",
    "#         # only inliers\n",
    "    pts1 = pts1[mask.ravel() == 1]\n",
    "    pts2 = pts2[mask.ravel() == 1]\n",
    "    retval, R, t, mask = cv2.recoverPose(E, pts1, pts2, K)\n",
    "    \n",
    "\n",
    "    #     pose = poseEstimation(K,E,pts1,pts2)\n",
    "    pose = np.column_stack(R,t)    \n",
    "    a = np.array([0, 0, 0, 1])\n",
    "    H = np.vstack((pose, a))\n",
    "\n",
    "    H0 = H0 @ H\n",
    "    p_projection = H0 @ p_0\n",
    "\n",
    "    print('x- ', p_projection[0])\n",
    "    print('y- ', p_projection[2])\n",
    "    \n",
    "    data_points.append([p_projection[0][0], -p_projection[2][0]])\n",
    "    plt.scatter(p_projection[0][0], -p_projection[2][0], color='r')\n",
    "\n",
    "    if cv2.waitKey(0) == 27:\n",
    "        break\n",
    "    flag = flag + 1\n",
    "\n",
    "    cv2.destroyAllWindows()\n",
    "\n",
    "plt.show()\n",
    "pd.to_csv('Predefined.csv')"
   ]
  },
  {
   "cell_type": "code",
   "execution_count": null,
   "metadata": {},
   "outputs": [],
   "source": []
  },
  {
   "cell_type": "code",
   "execution_count": null,
   "metadata": {},
   "outputs": [],
   "source": []
  }
 ],
 "metadata": {
  "kernelspec": {
   "display_name": "Python 3",
   "language": "python",
   "name": "python3"
  },
  "language_info": {
   "codemirror_mode": {
    "name": "ipython",
    "version": 3
   },
   "file_extension": ".py",
   "mimetype": "text/x-python",
   "name": "python",
   "nbconvert_exporter": "python",
   "pygments_lexer": "ipython3",
   "version": "3.6.9"
  }
 },
 "nbformat": 4,
 "nbformat_minor": 4
}
